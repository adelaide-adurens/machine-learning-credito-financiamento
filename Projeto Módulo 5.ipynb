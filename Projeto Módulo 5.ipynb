{
 "cells": [
  {
   "cell_type": "markdown",
   "metadata": {},
   "source": [
    "### Data de entrega: 16/03/22\n",
    "_________"
   ]
  },
  {
   "cell_type": "markdown",
   "metadata": {},
   "source": [
    "# Projeto módulo 5 - Crédito para Financiamento de Imóveis\n",
    "\n",
    "\n",
    "____________\n",
    "\n",
    "\n",
    "## Contextualização\n",
    "\n",
    "A PyCoders Ltda., cada vez mais especializada no mundo da Inteligência Artificial e Ciência de Dados, foi procurada por uma fintech para desenvolver um projeto de concessão de crédito para imóveis. Nesse projeto, espera-se a criação de valor que **discrimine ao máximo** os **bons pagadores** dos **maus pagadores**. \n",
    "\n",
    "Para isso, foi disponibilizada uma base de dados com milhares de casos de **empréstimos do passado** com diversas características dos clientes. \n",
    "\n",
    "Entrega: um modelo com a **melhor performance** possível.\n",
    "\n",
    "Métrica de performance (inicialmente proposta): **ROC-AUC.**\n"
   ]
  },
  {
   "cell_type": "markdown",
   "metadata": {},
   "source": [
    "## Base de Dados\n",
    "\n",
    "Serão utilizadas bases de dados com **informações cadastrais, histórico de crédito e balanços financeiros de diversos clientes**. \n",
    "\n",
    "O conjunto de dados está dividido em **treino e teste**, todos no formato csv. \n",
    "\n",
    "Toda a modelagem, validação e avaliação deve ser feita em cima do conjunto de **treino**, subdividindo tal base como a squad achar melhor. \n",
    "\n",
    "Existe também os das variáveis explicativas, para ajudar no desenvolvimento do projeto. \n",
    "\n",
    "Serão necessários diversos cruzamentos e vocês estão livres para usar os dados da maneira que acharem mais conveniente.\n",
    "\n",
    "[Clique aqui](https://drive.google.com/file/d/17fyteuN2MdGdbP5_Xq_sySN_yH91vTup/view) pra baixar os dados (eles estão disponiveis no arquivo zipado `credito-imoveis.zip`)."
   ]
  },
  {
   "cell_type": "markdown",
   "metadata": {},
   "source": [
    "## Regras de Entrega\n",
    "\n",
    "Deve ser entregue um arquivo csv com as **predições** para a base de teste.\n",
    "\n",
    "Essa base deverá ser um Data Frame com duas colunas: a primeira sendo o **SK_ID_CURR** e a segunda a **probabilidade de inadimplência.**\n",
    "\n",
    "### IMPORTANTE!\n",
    "\n",
    "Entregar as predições com a **probabilidade da inadimplência ocorrer**, não a classe predita.\n",
    "\n",
    "Além do arquivo com as predições, claro, entreugem também o notebook com o código utilizado. É importante que ele tenha:\n",
    "\n",
    "- (i) a análise exploratória e construção das variáveis explicativas;\n",
    "\n",
    "- (ii) a análise de modelagem, mostrando o processo das avaliações dos modelos e os motivos das decisões tomadas sobre qual modelo usar."
   ]
  },
  {
   "cell_type": "markdown",
   "metadata": {},
   "source": [
    "## Dicas\n",
    "\n",
    "\n",
    "Explorar o conceito das variáveis: existe risco de imagem uma empresa utilizar variável de sexo para determinar risco de crédito? Vale a pena trazer a variável para o modelo?\n",
    "\n",
    "Criar novas variáveis usando as variáveis que já estão na base: criatividade!\n",
    "\n",
    "Qualquer dúvida, só me chamar! ;)\n"
   ]
  },
  {
   "cell_type": "markdown",
   "metadata": {},
   "source": [
    "## Observações adicionais\n",
    "\n",
    "- No arquivo zipado, há todas as bases que foram utilizadas na criação das bases principais (`application_{train|test_student}`). Vocês podem explorar à vontade estas outras bases pra entender como elas se comunicam entre si, e como as informações delas foram agregadas na base principal. No entanto, **não é necessário utilizar estas informações**, basta usar apenas o que tem na base de treino `application_train`. Este trabalho de cruzamento de diversas bases para a construção de uma única base de treinamento é muito importante, mas (embora já saibamos como cruzar bases!), é algo que foge do escopo deste módulo -- no módulo de banco de dados, vcs vão aprender tudo sobre isso! ;)\n",
    "\n",
    "- Reflitam sobre isso: da forma que está, a base de teste `application_test_student` serve pra quê?\n",
    "\n",
    "- Reforçando, pq nunca é demais: não esqueçam de fazer uma extensa análise exploratória! **Conheçam o problema com o qual vcs estão trabalhando!** Essa é a hora de botar em prática ao extremo tudo o que vimos no módulo 3 e 4! (e o que vimos no módulo 5 na etapa de modelagem, claro hehe)\n"
   ]
  },
  {
   "cell_type": "markdown",
   "metadata": {},
   "source": [
    "## Alguns benchmarks\n",
    "\n",
    "Pra ter uma ideia da performance máxima esperada do modelo, sugiro dar uma olhada nos [notebooks da competição](https://www.kaggle.com/c/home-credit-default-risk/code?competitionId=9120&sortBy=voteCount) (usem apenas como referência/inspiração! Peço que, na solução de vocês, realmente vcs apliquem as coisas como vimos no curso!!)\n",
    "\n",
    "Em alguns notebooks, podemos ver que as AUC/ROCs máximas de validação encontradas foram de **0.76** e até mesmo **0.78** (usando modelos de gradient boosting e um pouco de feature engineering). Acredito que esse pode ser o alvo teto pra performance de vocês -- embora, como sempre dizemos: tentem chegar o mais próximo possível, no tempo que vocês têm disponível! Então, se não chegarem exatamente nessa performance, tudo bem! O importante é tentar chegar o mais próximo possível ;)"
   ]
  }
 ],
 "metadata": {
  "kernelspec": {
   "display_name": "Python 3",
   "language": "python",
   "name": "python3"
  },
  "language_info": {
   "codemirror_mode": {
    "name": "ipython",
    "version": 3
   },
   "file_extension": ".py",
   "mimetype": "text/x-python",
   "name": "python",
   "nbconvert_exporter": "python",
   "pygments_lexer": "ipython3",
   "version": "3.9.5"
  }
 },
 "nbformat": 4,
 "nbformat_minor": 4
}
